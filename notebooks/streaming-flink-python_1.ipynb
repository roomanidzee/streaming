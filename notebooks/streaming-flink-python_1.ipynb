{
 "cells": [
  {
   "cell_type": "code",
   "execution_count": 1,
   "id": "4fe0058c-2980-46a3-ac2d-21f4a7a27d66",
   "metadata": {},
   "outputs": [
    {
     "data": {
      "text/plain": [
       "4"
      ]
     },
     "execution_count": 1,
     "metadata": {},
     "output_type": "execute_result"
    }
   ],
   "source": [
    "2+2"
   ]
  },
  {
   "cell_type": "code",
   "execution_count": 2,
   "id": "d3c724f3-5577-407b-afc0-111312b6f923",
   "metadata": {},
   "outputs": [
    {
     "ename": "ImportError",
     "evalue": "cannot import name 'Json' from 'pyflink.table.descriptors' (/Users/andrey_romanov/projects/streaming/notebooks/venv/lib/python3.8/site-packages/pyflink/table/descriptors.py)",
     "output_type": "error",
     "traceback": [
      "\u001b[0;31m---------------------------------------------------------------------------\u001b[0m",
      "\u001b[0;31mImportError\u001b[0m                               Traceback (most recent call last)",
      "\u001b[0;32m/var/folders/n9/70cg4ly10c5f7hnsz_d4j9_c0000gn/T/ipykernel_4308/4118711048.py\u001b[0m in \u001b[0;36m<module>\u001b[0;34m\u001b[0m\n\u001b[1;32m      2\u001b[0m \u001b[0;32mfrom\u001b[0m \u001b[0mpyflink\u001b[0m\u001b[0;34m.\u001b[0m\u001b[0mdatastream\u001b[0m \u001b[0;32mimport\u001b[0m \u001b[0mStreamExecutionEnvironment\u001b[0m\u001b[0;34m,\u001b[0m \u001b[0mTimeCharacteristic\u001b[0m\u001b[0;34m\u001b[0m\u001b[0;34m\u001b[0m\u001b[0m\n\u001b[1;32m      3\u001b[0m \u001b[0;32mfrom\u001b[0m \u001b[0mpyflink\u001b[0m\u001b[0;34m.\u001b[0m\u001b[0mtable\u001b[0m \u001b[0;32mimport\u001b[0m \u001b[0mStreamTableEnvironment\u001b[0m\u001b[0;34m,\u001b[0m \u001b[0mCsvTableSink\u001b[0m\u001b[0;34m,\u001b[0m \u001b[0mDataTypes\u001b[0m\u001b[0;34m,\u001b[0m \u001b[0mEnvironmentSettings\u001b[0m\u001b[0;34m\u001b[0m\u001b[0;34m\u001b[0m\u001b[0m\n\u001b[0;32m----> 4\u001b[0;31m \u001b[0;32mfrom\u001b[0m \u001b[0mpyflink\u001b[0m\u001b[0;34m.\u001b[0m\u001b[0mtable\u001b[0m\u001b[0;34m.\u001b[0m\u001b[0mdescriptors\u001b[0m \u001b[0;32mimport\u001b[0m \u001b[0mSchema\u001b[0m\u001b[0;34m,\u001b[0m \u001b[0mRowtime\u001b[0m\u001b[0;34m,\u001b[0m \u001b[0mJson\u001b[0m\u001b[0;34m,\u001b[0m \u001b[0mKafka\u001b[0m\u001b[0;34m\u001b[0m\u001b[0;34m\u001b[0m\u001b[0m\n\u001b[0m\u001b[1;32m      5\u001b[0m \u001b[0;32mfrom\u001b[0m \u001b[0mpyflink\u001b[0m\u001b[0;34m.\u001b[0m\u001b[0mtable\u001b[0m\u001b[0;34m.\u001b[0m\u001b[0mwindow\u001b[0m \u001b[0;32mimport\u001b[0m \u001b[0mTumble\u001b[0m\u001b[0;34m\u001b[0m\u001b[0;34m\u001b[0m\u001b[0m\n",
      "\u001b[0;31mImportError\u001b[0m: cannot import name 'Json' from 'pyflink.table.descriptors' (/Users/andrey_romanov/projects/streaming/notebooks/venv/lib/python3.8/site-packages/pyflink/table/descriptors.py)"
     ]
    }
   ],
   "source": [
    "import os\n",
    "from pyflink.datastream import StreamExecutionEnvironment, TimeCharacteristic\n",
    "from pyflink.table import StreamTableEnvironment, CsvTableSink, DataTypes, EnvironmentSettings\n",
    "from pyflink.table.descriptors import Schema, Rowtime, Json, Kafka\n",
    "from pyflink.table.window import Tumble"
   ]
  },
  {
   "cell_type": "code",
   "execution_count": 4,
   "id": "b1bda3e0-c7da-4a93-9b8f-6e71426e13da",
   "metadata": {},
   "outputs": [],
   "source": [
    "# увы, API на Java / Scala стабильнее, чем на Python. Посмотреть в следующие выходные"
   ]
  },
  {
   "cell_type": "code",
   "execution_count": null,
   "id": "ff44aef2-a61b-49ba-8dd3-3ce9e306c3e0",
   "metadata": {},
   "outputs": [],
   "source": []
  }
 ],
 "metadata": {
  "kernelspec": {
   "display_name": "flink-env",
   "language": "python",
   "name": "flink-env"
  },
  "language_info": {
   "codemirror_mode": {
    "name": "ipython",
    "version": 3
   },
   "file_extension": ".py",
   "mimetype": "text/x-python",
   "name": "python",
   "nbconvert_exporter": "python",
   "pygments_lexer": "ipython3",
   "version": "3.8.2"
  }
 },
 "nbformat": 4,
 "nbformat_minor": 5
}
