{
 "cells": [
  {
   "cell_type": "code",
   "execution_count": 1,
   "id": "f6cc4092-6955-4a6e-b230-95bcc2a07349",
   "metadata": {},
   "outputs": [
    {
     "data": {
      "text/plain": [
       "4"
      ]
     },
     "execution_count": 1,
     "metadata": {},
     "output_type": "execute_result"
    }
   ],
   "source": [
    "2+2"
   ]
  },
  {
   "cell_type": "code",
   "execution_count": 2,
   "id": "1dac7188-3a31-40e8-a4ca-e85df34af665",
   "metadata": {},
   "outputs": [],
   "source": [
    "from pyflink.table import (\n",
    "    DataTypes, TableEnvironment, EnvironmentSettings, \n",
    "    CsvTableSource, CsvTableSink, WriteMode\n",
    ")"
   ]
  },
  {
   "cell_type": "code",
   "execution_count": 3,
   "id": "06e6f563-0588-4b10-a186-fdca2386aeb1",
   "metadata": {},
   "outputs": [],
   "source": [
    "env_settings = (\n",
    "    EnvironmentSettings.new_instance()\n",
    "                       .in_batch_mode()\n",
    "                       .use_blink_planner()\n",
    "                       .build()\n",
    ")"
   ]
  },
  {
   "cell_type": "code",
   "execution_count": 4,
   "id": "a3ddf8dd-3f22-45ff-a894-b78abdd9e01b",
   "metadata": {},
   "outputs": [
    {
     "data": {
      "text/plain": [
       "<pyflink.table.environment_settings.EnvironmentSettings at 0x10ddb3280>"
      ]
     },
     "execution_count": 4,
     "metadata": {},
     "output_type": "execute_result"
    }
   ],
   "source": [
    "env_settings"
   ]
  },
  {
   "cell_type": "code",
   "execution_count": 5,
   "id": "3094968a-7f31-49e9-a253-b47eefddc76c",
   "metadata": {},
   "outputs": [],
   "source": [
    "tbl_env = TableEnvironment.create(env_settings)"
   ]
  },
  {
   "cell_type": "code",
   "execution_count": 6,
   "id": "e1c6c4b9-e5ea-4eee-a0b5-344c727869ef",
   "metadata": {},
   "outputs": [],
   "source": [
    "in_field_names = ['seller_id', 'product', 'quantity', 'product_price', 'sales_date']"
   ]
  },
  {
   "cell_type": "code",
   "execution_count": 7,
   "id": "a9fe0195-c95b-482a-b54f-81ddb6a9b960",
   "metadata": {},
   "outputs": [],
   "source": [
    "in_field_types = [DataTypes.STRING(), DataTypes.STRING(), DataTypes.INT(), DataTypes.DOUBLE(), DataTypes.DATE()]"
   ]
  },
  {
   "cell_type": "code",
   "execution_count": 8,
   "id": "676b1617-26a9-4fb7-939d-c9716c2cfcde",
   "metadata": {},
   "outputs": [],
   "source": [
    "source = CsvTableSource(\n",
    "        './input',\n",
    "        in_field_names,\n",
    "        in_field_types,\n",
    "        ignore_first_line=True\n",
    "    )"
   ]
  },
  {
   "cell_type": "code",
   "execution_count": 9,
   "id": "d1efdd49-ec5b-4752-97b1-a0dd94be0e56",
   "metadata": {},
   "outputs": [
    {
     "data": {
      "text/plain": [
       "<pyflink.table.sources.CsvTableSource at 0x137665340>"
      ]
     },
     "execution_count": 9,
     "metadata": {},
     "output_type": "execute_result"
    }
   ],
   "source": [
    "source"
   ]
  },
  {
   "cell_type": "code",
   "execution_count": 10,
   "id": "62bbc7a6-5925-4dc9-87b0-55e4ffe11e68",
   "metadata": {},
   "outputs": [],
   "source": [
    "tbl_env.register_table_source('locale_product_sales', source)"
   ]
  },
  {
   "cell_type": "code",
   "execution_count": 11,
   "id": "cc1c21f6-4d05-419c-b150-1db25c09b061",
   "metadata": {},
   "outputs": [],
   "source": [
    "out_field_names = ['seller_id', 'revenue']"
   ]
  },
  {
   "cell_type": "code",
   "execution_count": 12,
   "id": "7f57ed74-a9ff-4af2-bfca-cf9ae9830748",
   "metadata": {},
   "outputs": [],
   "source": [
    "out_field_types = [DataTypes.STRING(), DataTypes.DOUBLE()]"
   ]
  },
  {
   "cell_type": "code",
   "execution_count": 13,
   "id": "db133595-0549-4a40-864c-397f245709a8",
   "metadata": {},
   "outputs": [],
   "source": [
    "sink = CsvTableSink(\n",
    "        out_field_names,\n",
    "        out_field_types,\n",
    "        './table-api-output/revenue.csv',\n",
    "        num_files=1,\n",
    "        write_mode=WriteMode.OVERWRITE\n",
    "    )"
   ]
  },
  {
   "cell_type": "code",
   "execution_count": 14,
   "id": "9d84c8db-33b1-445a-a038-2ed245cbda05",
   "metadata": {},
   "outputs": [],
   "source": [
    "tbl_env.register_table_sink('locale_revenue', sink)"
   ]
  },
  {
   "cell_type": "code",
   "execution_count": 15,
   "id": "3f5d358f-9659-4773-827e-f7423c60e592",
   "metadata": {},
   "outputs": [],
   "source": [
    "tbl = tbl_env.from_path('locale_product_sales')"
   ]
  },
  {
   "cell_type": "code",
   "execution_count": 16,
   "id": "b9475fe6-f1d1-4e18-9b0c-9de31deaf954",
   "metadata": {},
   "outputs": [],
   "source": [
    "sales_tbl = tbl.add_columns(\n",
    "        (tbl.quantity * tbl.product_price).alias('sales')\n",
    "    )"
   ]
  },
  {
   "cell_type": "code",
   "execution_count": 17,
   "id": "caf839d0-9d4d-4fd6-bbfe-61833a3ff0d7",
   "metadata": {},
   "outputs": [
    {
     "name": "stdout",
     "output_type": "stream",
     "text": [
      "(\n",
      "  `seller_id` STRING,\n",
      "  `product` STRING,\n",
      "  `quantity` INT,\n",
      "  `product_price` DOUBLE,\n",
      "  `sales_date` DATE,\n",
      "  `sales` DOUBLE\n",
      ")\n"
     ]
    }
   ],
   "source": [
    "sales_tbl.print_schema()"
   ]
  },
  {
   "cell_type": "code",
   "execution_count": 18,
   "id": "be7f208b-8891-4242-8966-9e864a1ca3fb",
   "metadata": {},
   "outputs": [],
   "source": [
    "output_tbl = (\n",
    "    sales_tbl.group_by(sales_tbl.seller_id)\n",
    "             .select(sales_tbl.seller_id,sales_tbl.sales.sum.alias('revenue'))\n",
    ")"
   ]
  },
  {
   "cell_type": "code",
   "execution_count": 19,
   "id": "bf774a33-bb67-4709-802f-393ded1d9595",
   "metadata": {},
   "outputs": [
    {
     "name": "stdout",
     "output_type": "stream",
     "text": [
      "(\n",
      "  `seller_id` STRING,\n",
      "  `revenue` DOUBLE\n",
      ")\n"
     ]
    }
   ],
   "source": [
    "output_tbl.print_schema()"
   ]
  },
  {
   "cell_type": "code",
   "execution_count": 20,
   "id": "87273add-c834-405a-97a4-e9cff8381b85",
   "metadata": {},
   "outputs": [
    {
     "name": "stderr",
     "output_type": "stream",
     "text": [
      "WARNING: An illegal reflective access operation has occurred\n",
      "WARNING: Illegal reflective access by org.apache.flink.api.java.ClosureCleaner (file:/Users/andrey_romanov/projects/streaming/notebooks/venv/lib/python3.8/site-packages/pyflink/lib/flink-dist_2.11-1.14.0.jar) to field java.lang.String.value\n",
      "WARNING: Please consider reporting this to the maintainers of org.apache.flink.api.java.ClosureCleaner\n",
      "WARNING: Use --illegal-access=warn to enable warnings of further illegal reflective access operations\n",
      "WARNING: All illegal access operations will be denied in a future release\n"
     ]
    }
   ],
   "source": [
    "output_tbl.execute_insert('locale_revenue').wait()"
   ]
  },
  {
   "cell_type": "code",
   "execution_count": 21,
   "id": "67660f6f-b7a3-4c53-9eef-e4bb3180085d",
   "metadata": {},
   "outputs": [],
   "source": [
    "import pandas as pd"
   ]
  },
  {
   "cell_type": "code",
   "execution_count": 22,
   "id": "ed3c4ea3-c98a-463d-8a69-690bd8c15545",
   "metadata": {},
   "outputs": [],
   "source": [
    "df = pd.read_csv('./table-api-output/revenue.csv')"
   ]
  },
  {
   "cell_type": "code",
   "execution_count": 23,
   "id": "feb465b8-49b5-4387-867e-72493e72b4dc",
   "metadata": {},
   "outputs": [
    {
     "data": {
      "text/html": [
       "<div>\n",
       "<style scoped>\n",
       "    .dataframe tbody tr th:only-of-type {\n",
       "        vertical-align: middle;\n",
       "    }\n",
       "\n",
       "    .dataframe tbody tr th {\n",
       "        vertical-align: top;\n",
       "    }\n",
       "\n",
       "    .dataframe thead th {\n",
       "        text-align: right;\n",
       "    }\n",
       "</style>\n",
       "<table border=\"1\" class=\"dataframe\">\n",
       "  <thead>\n",
       "    <tr style=\"text-align: right;\">\n",
       "      <th></th>\n",
       "      <th>OMA</th>\n",
       "      <th>650.1400000000001</th>\n",
       "    </tr>\n",
       "  </thead>\n",
       "  <tbody>\n",
       "    <tr>\n",
       "      <th>0</th>\n",
       "      <td>LNK</td>\n",
       "      <td>502.57</td>\n",
       "    </tr>\n",
       "  </tbody>\n",
       "</table>\n",
       "</div>"
      ],
      "text/plain": [
       "   OMA  650.1400000000001\n",
       "0  LNK             502.57"
      ]
     },
     "execution_count": 23,
     "metadata": {},
     "output_type": "execute_result"
    }
   ],
   "source": [
    "df"
   ]
  },
  {
   "cell_type": "code",
   "execution_count": null,
   "id": "f9bcaab6-6513-44f2-9f9d-f203cac6f83c",
   "metadata": {},
   "outputs": [],
   "source": []
  }
 ],
 "metadata": {
  "kernelspec": {
   "display_name": "flink-env",
   "language": "python",
   "name": "flink-env"
  },
  "language_info": {
   "codemirror_mode": {
    "name": "ipython",
    "version": 3
   },
   "file_extension": ".py",
   "mimetype": "text/x-python",
   "name": "python",
   "nbconvert_exporter": "python",
   "pygments_lexer": "ipython3",
   "version": "3.8.2"
  }
 },
 "nbformat": 4,
 "nbformat_minor": 5
}
